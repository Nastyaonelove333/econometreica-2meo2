{
 "cells": [
  {
   "cell_type": "code",
   "execution_count": 12,
   "id": "dbee3d78",
   "metadata": {},
   "outputs": [],
   "source": [
    "import pandas as pd\n",
    "import numpy as np\n",
    "import io\n",
    "import statsmodels.formula.api as smf"
   ]
  },
  {
   "cell_type": "markdown",
   "id": "983c43a2",
   "metadata": {},
   "source": [
    "# лист 3 "
   ]
  },
  {
   "cell_type": "markdown",
   "id": "62318cf8",
   "metadata": {},
   "source": [
    "# 1.1.1"
   ]
  },
  {
   "cell_type": "code",
   "execution_count": 13,
   "id": "d130eb46",
   "metadata": {},
   "outputs": [],
   "source": [
    "check='''sleep totwrk age male hrwage\n",
    "3113   3438  32   1    7.07 \n",
    "2920   5020  31   1    1.43 \n",
    "2670   2815  44   1   20.53 \n",
    "3083   3786  30   0    9.62 \n",
    "3448   2580  64   1    2.75 \n",
    "4063   1205  41   1   19.25 '''"
   ]
  },
  {
   "cell_type": "code",
   "execution_count": 17,
   "id": "79740d09",
   "metadata": {},
   "outputs": [
    {
     "data": {
      "text/html": [
       "<div>\n",
       "<style scoped>\n",
       "    .dataframe tbody tr th:only-of-type {\n",
       "        vertical-align: middle;\n",
       "    }\n",
       "\n",
       "    .dataframe tbody tr th {\n",
       "        vertical-align: top;\n",
       "    }\n",
       "\n",
       "    .dataframe thead th {\n",
       "        text-align: right;\n",
       "    }\n",
       "</style>\n",
       "<table border=\"1\" class=\"dataframe\">\n",
       "  <thead>\n",
       "    <tr style=\"text-align: right;\">\n",
       "      <th></th>\n",
       "      <th>sleep</th>\n",
       "      <th>totwrk</th>\n",
       "      <th>age</th>\n",
       "      <th>male</th>\n",
       "      <th>hrwage</th>\n",
       "    </tr>\n",
       "  </thead>\n",
       "  <tbody>\n",
       "    <tr>\n",
       "      <th>0</th>\n",
       "      <td>3113</td>\n",
       "      <td>3438</td>\n",
       "      <td>32</td>\n",
       "      <td>1</td>\n",
       "      <td>7.07</td>\n",
       "    </tr>\n",
       "    <tr>\n",
       "      <th>1</th>\n",
       "      <td>2920</td>\n",
       "      <td>5020</td>\n",
       "      <td>31</td>\n",
       "      <td>1</td>\n",
       "      <td>1.43</td>\n",
       "    </tr>\n",
       "    <tr>\n",
       "      <th>2</th>\n",
       "      <td>2670</td>\n",
       "      <td>2815</td>\n",
       "      <td>44</td>\n",
       "      <td>1</td>\n",
       "      <td>20.53</td>\n",
       "    </tr>\n",
       "    <tr>\n",
       "      <th>3</th>\n",
       "      <td>3083</td>\n",
       "      <td>3786</td>\n",
       "      <td>30</td>\n",
       "      <td>0</td>\n",
       "      <td>9.62</td>\n",
       "    </tr>\n",
       "    <tr>\n",
       "      <th>4</th>\n",
       "      <td>3448</td>\n",
       "      <td>2580</td>\n",
       "      <td>64</td>\n",
       "      <td>1</td>\n",
       "      <td>2.75</td>\n",
       "    </tr>\n",
       "    <tr>\n",
       "      <th>5</th>\n",
       "      <td>4063</td>\n",
       "      <td>1205</td>\n",
       "      <td>41</td>\n",
       "      <td>1</td>\n",
       "      <td>19.25</td>\n",
       "    </tr>\n",
       "  </tbody>\n",
       "</table>\n",
       "</div>"
      ],
      "text/plain": [
       "   sleep  totwrk  age  male  hrwage\n",
       "0   3113    3438   32     1    7.07\n",
       "1   2920    5020   31     1    1.43\n",
       "2   2670    2815   44     1   20.53\n",
       "3   3083    3786   30     0    9.62\n",
       "4   3448    2580   64     1    2.75\n",
       "5   4063    1205   41     1   19.25"
      ]
     },
     "execution_count": 17,
     "metadata": {},
     "output_type": "execute_result"
    }
   ],
   "source": [
    "df = pd.read_csv(io.StringIO(check), sep='\\s+')\n",
    "df"
   ]
  },
  {
   "cell_type": "code",
   "execution_count": 18,
   "id": "8c99addc",
   "metadata": {},
   "outputs": [],
   "source": [
    "df['y_pred'] = 3525.14 + df['totwrk'] * (-0.16) + df['age'] * (1.62) + df['male'] * (51.84) + np.log(df['hrwage'])*(-9.88)"
   ]
  },
  {
   "cell_type": "code",
   "execution_count": 19,
   "id": "cb6e26e6",
   "metadata": {},
   "outputs": [
    {
     "data": {
      "text/html": [
       "<div>\n",
       "<style scoped>\n",
       "    .dataframe tbody tr th:only-of-type {\n",
       "        vertical-align: middle;\n",
       "    }\n",
       "\n",
       "    .dataframe tbody tr th {\n",
       "        vertical-align: top;\n",
       "    }\n",
       "\n",
       "    .dataframe thead th {\n",
       "        text-align: right;\n",
       "    }\n",
       "</style>\n",
       "<table border=\"1\" class=\"dataframe\">\n",
       "  <thead>\n",
       "    <tr style=\"text-align: right;\">\n",
       "      <th></th>\n",
       "      <th>sleep</th>\n",
       "      <th>totwrk</th>\n",
       "      <th>age</th>\n",
       "      <th>male</th>\n",
       "      <th>hrwage</th>\n",
       "      <th>y_pred</th>\n",
       "    </tr>\n",
       "  </thead>\n",
       "  <tbody>\n",
       "    <tr>\n",
       "      <th>0</th>\n",
       "      <td>3113</td>\n",
       "      <td>3438</td>\n",
       "      <td>32</td>\n",
       "      <td>1</td>\n",
       "      <td>7.07</td>\n",
       "      <td>3059.416098</td>\n",
       "    </tr>\n",
       "    <tr>\n",
       "      <th>1</th>\n",
       "      <td>2920</td>\n",
       "      <td>5020</td>\n",
       "      <td>31</td>\n",
       "      <td>1</td>\n",
       "      <td>1.43</td>\n",
       "      <td>2820.466176</td>\n",
       "    </tr>\n",
       "    <tr>\n",
       "      <th>2</th>\n",
       "      <td>2670</td>\n",
       "      <td>2815</td>\n",
       "      <td>44</td>\n",
       "      <td>1</td>\n",
       "      <td>20.53</td>\n",
       "      <td>3168.003754</td>\n",
       "    </tr>\n",
       "    <tr>\n",
       "      <th>3</th>\n",
       "      <td>3083</td>\n",
       "      <td>3786</td>\n",
       "      <td>30</td>\n",
       "      <td>0</td>\n",
       "      <td>9.62</td>\n",
       "      <td>2945.613219</td>\n",
       "    </tr>\n",
       "    <tr>\n",
       "      <th>4</th>\n",
       "      <td>3448</td>\n",
       "      <td>2580</td>\n",
       "      <td>64</td>\n",
       "      <td>1</td>\n",
       "      <td>2.75</td>\n",
       "      <td>3257.865383</td>\n",
       "    </tr>\n",
       "    <tr>\n",
       "      <th>5</th>\n",
       "      <td>4063</td>\n",
       "      <td>1205</td>\n",
       "      <td>41</td>\n",
       "      <td>1</td>\n",
       "      <td>19.25</td>\n",
       "      <td>3421.379791</td>\n",
       "    </tr>\n",
       "  </tbody>\n",
       "</table>\n",
       "</div>"
      ],
      "text/plain": [
       "   sleep  totwrk  age  male  hrwage       y_pred\n",
       "0   3113    3438   32     1    7.07  3059.416098\n",
       "1   2920    5020   31     1    1.43  2820.466176\n",
       "2   2670    2815   44     1   20.53  3168.003754\n",
       "3   3083    3786   30     0    9.62  2945.613219\n",
       "4   3448    2580   64     1    2.75  3257.865383\n",
       "5   4063    1205   41     1   19.25  3421.379791"
      ]
     },
     "execution_count": 19,
     "metadata": {},
     "output_type": "execute_result"
    }
   ],
   "source": [
    "df"
   ]
  },
  {
   "cell_type": "markdown",
   "id": "1f0ab812",
   "metadata": {},
   "source": [
    "# 1.1.2"
   ]
  },
  {
   "cell_type": "code",
   "execution_count": 20,
   "id": "dab2d8ca",
   "metadata": {},
   "outputs": [
    {
     "data": {
      "text/html": [
       "<div>\n",
       "<style scoped>\n",
       "    .dataframe tbody tr th:only-of-type {\n",
       "        vertical-align: middle;\n",
       "    }\n",
       "\n",
       "    .dataframe tbody tr th {\n",
       "        vertical-align: top;\n",
       "    }\n",
       "\n",
       "    .dataframe thead th {\n",
       "        text-align: right;\n",
       "    }\n",
       "</style>\n",
       "<table border=\"1\" class=\"dataframe\">\n",
       "  <thead>\n",
       "    <tr style=\"text-align: right;\">\n",
       "      <th></th>\n",
       "      <th>sleep</th>\n",
       "      <th>totwrk</th>\n",
       "      <th>age</th>\n",
       "      <th>male</th>\n",
       "      <th>hrwage</th>\n",
       "      <th>y_pred</th>\n",
       "      <th>resdual</th>\n",
       "    </tr>\n",
       "  </thead>\n",
       "  <tbody>\n",
       "    <tr>\n",
       "      <th>0</th>\n",
       "      <td>3113</td>\n",
       "      <td>3438</td>\n",
       "      <td>32</td>\n",
       "      <td>1</td>\n",
       "      <td>7.07</td>\n",
       "      <td>3059.416098</td>\n",
       "      <td>53.583902</td>\n",
       "    </tr>\n",
       "    <tr>\n",
       "      <th>1</th>\n",
       "      <td>2920</td>\n",
       "      <td>5020</td>\n",
       "      <td>31</td>\n",
       "      <td>1</td>\n",
       "      <td>1.43</td>\n",
       "      <td>2820.466176</td>\n",
       "      <td>99.533824</td>\n",
       "    </tr>\n",
       "    <tr>\n",
       "      <th>2</th>\n",
       "      <td>2670</td>\n",
       "      <td>2815</td>\n",
       "      <td>44</td>\n",
       "      <td>1</td>\n",
       "      <td>20.53</td>\n",
       "      <td>3168.003754</td>\n",
       "      <td>-498.003754</td>\n",
       "    </tr>\n",
       "    <tr>\n",
       "      <th>3</th>\n",
       "      <td>3083</td>\n",
       "      <td>3786</td>\n",
       "      <td>30</td>\n",
       "      <td>0</td>\n",
       "      <td>9.62</td>\n",
       "      <td>2945.613219</td>\n",
       "      <td>137.386781</td>\n",
       "    </tr>\n",
       "    <tr>\n",
       "      <th>4</th>\n",
       "      <td>3448</td>\n",
       "      <td>2580</td>\n",
       "      <td>64</td>\n",
       "      <td>1</td>\n",
       "      <td>2.75</td>\n",
       "      <td>3257.865383</td>\n",
       "      <td>190.134617</td>\n",
       "    </tr>\n",
       "    <tr>\n",
       "      <th>5</th>\n",
       "      <td>4063</td>\n",
       "      <td>1205</td>\n",
       "      <td>41</td>\n",
       "      <td>1</td>\n",
       "      <td>19.25</td>\n",
       "      <td>3421.379791</td>\n",
       "      <td>641.620209</td>\n",
       "    </tr>\n",
       "  </tbody>\n",
       "</table>\n",
       "</div>"
      ],
      "text/plain": [
       "   sleep  totwrk  age  male  hrwage       y_pred     resdual\n",
       "0   3113    3438   32     1    7.07  3059.416098   53.583902\n",
       "1   2920    5020   31     1    1.43  2820.466176   99.533824\n",
       "2   2670    2815   44     1   20.53  3168.003754 -498.003754\n",
       "3   3083    3786   30     0    9.62  2945.613219  137.386781\n",
       "4   3448    2580   64     1    2.75  3257.865383  190.134617\n",
       "5   4063    1205   41     1   19.25  3421.379791  641.620209"
      ]
     },
     "execution_count": 20,
     "metadata": {},
     "output_type": "execute_result"
    }
   ],
   "source": [
    "df['resdual'] = df['sleep'] - df['y_pred']\n",
    "df"
   ]
  },
  {
   "cell_type": "code",
   "execution_count": 24,
   "id": "0e9809c9",
   "metadata": {},
   "outputs": [],
   "source": [
    "nastyonka = '''output capital labour\n",
    "9.25    2.61    184  \n",
    "3.66    1.32     91  \n",
    "28.78   22.09   426  \n",
    "4.12    10.74    72  \n",
    "2.89    1.16     46  '''"
   ]
  },
  {
   "cell_type": "code",
   "execution_count": 25,
   "id": "3a68acef",
   "metadata": {},
   "outputs": [
    {
     "data": {
      "text/html": [
       "<div>\n",
       "<style scoped>\n",
       "    .dataframe tbody tr th:only-of-type {\n",
       "        vertical-align: middle;\n",
       "    }\n",
       "\n",
       "    .dataframe tbody tr th {\n",
       "        vertical-align: top;\n",
       "    }\n",
       "\n",
       "    .dataframe thead th {\n",
       "        text-align: right;\n",
       "    }\n",
       "</style>\n",
       "<table border=\"1\" class=\"dataframe\">\n",
       "  <thead>\n",
       "    <tr style=\"text-align: right;\">\n",
       "      <th></th>\n",
       "      <th>output</th>\n",
       "      <th>capital</th>\n",
       "      <th>labour</th>\n",
       "    </tr>\n",
       "  </thead>\n",
       "  <tbody>\n",
       "    <tr>\n",
       "      <th>0</th>\n",
       "      <td>9.25</td>\n",
       "      <td>2.61</td>\n",
       "      <td>184</td>\n",
       "    </tr>\n",
       "    <tr>\n",
       "      <th>1</th>\n",
       "      <td>3.66</td>\n",
       "      <td>1.32</td>\n",
       "      <td>91</td>\n",
       "    </tr>\n",
       "    <tr>\n",
       "      <th>2</th>\n",
       "      <td>28.78</td>\n",
       "      <td>22.09</td>\n",
       "      <td>426</td>\n",
       "    </tr>\n",
       "    <tr>\n",
       "      <th>3</th>\n",
       "      <td>4.12</td>\n",
       "      <td>10.74</td>\n",
       "      <td>72</td>\n",
       "    </tr>\n",
       "    <tr>\n",
       "      <th>4</th>\n",
       "      <td>2.89</td>\n",
       "      <td>1.16</td>\n",
       "      <td>46</td>\n",
       "    </tr>\n",
       "  </tbody>\n",
       "</table>\n",
       "</div>"
      ],
      "text/plain": [
       "   output  capital  labour\n",
       "0    9.25     2.61     184\n",
       "1    3.66     1.32      91\n",
       "2   28.78    22.09     426\n",
       "3    4.12    10.74      72\n",
       "4    2.89     1.16      46"
      ]
     },
     "execution_count": 25,
     "metadata": {},
     "output_type": "execute_result"
    }
   ],
   "source": [
    "df = pd.read_csv(io.StringIO(nastyonka), sep='\\s+')\n",
    "df"
   ]
  },
  {
   "cell_type": "code",
   "execution_count": 27,
   "id": "26a83e2f",
   "metadata": {},
   "outputs": [
    {
     "data": {
      "text/html": [
       "<div>\n",
       "<style scoped>\n",
       "    .dataframe tbody tr th:only-of-type {\n",
       "        vertical-align: middle;\n",
       "    }\n",
       "\n",
       "    .dataframe tbody tr th {\n",
       "        vertical-align: top;\n",
       "    }\n",
       "\n",
       "    .dataframe thead th {\n",
       "        text-align: right;\n",
       "    }\n",
       "</style>\n",
       "<table border=\"1\" class=\"dataframe\">\n",
       "  <thead>\n",
       "    <tr style=\"text-align: right;\">\n",
       "      <th></th>\n",
       "      <th>output</th>\n",
       "      <th>capital</th>\n",
       "      <th>labour</th>\n",
       "      <th>y_pred</th>\n",
       "    </tr>\n",
       "  </thead>\n",
       "  <tbody>\n",
       "    <tr>\n",
       "      <th>0</th>\n",
       "      <td>9.25</td>\n",
       "      <td>2.61</td>\n",
       "      <td>184</td>\n",
       "      <td>2.194068</td>\n",
       "    </tr>\n",
       "    <tr>\n",
       "      <th>1</th>\n",
       "      <td>3.66</td>\n",
       "      <td>1.32</td>\n",
       "      <td>91</td>\n",
       "      <td>1.551013</td>\n",
       "    </tr>\n",
       "    <tr>\n",
       "      <th>2</th>\n",
       "      <td>28.78</td>\n",
       "      <td>22.09</td>\n",
       "      <td>426</td>\n",
       "      <td>3.238628</td>\n",
       "    </tr>\n",
       "    <tr>\n",
       "      <th>3</th>\n",
       "      <td>4.12</td>\n",
       "      <td>10.74</td>\n",
       "      <td>72</td>\n",
       "      <td>1.824968</td>\n",
       "    </tr>\n",
       "    <tr>\n",
       "      <th>4</th>\n",
       "      <td>2.89</td>\n",
       "      <td>1.16</td>\n",
       "      <td>46</td>\n",
       "      <td>1.039504</td>\n",
       "    </tr>\n",
       "  </tbody>\n",
       "</table>\n",
       "</div>"
      ],
      "text/plain": [
       "   output  capital  labour    y_pred\n",
       "0    9.25     2.61     184  2.194068\n",
       "1    3.66     1.32      91  1.551013\n",
       "2   28.78    22.09     426  3.238628\n",
       "3    4.12    10.74      72  1.824968\n",
       "4    2.89     1.16      46  1.039504"
      ]
     },
     "execution_count": 27,
     "metadata": {},
     "output_type": "execute_result"
    }
   ],
   "source": [
    "df['y_pred'] = -1.71  + np.log(df['capital'])*(0.21) + np.log(df['labour'])*(0.71)\n",
    "df"
   ]
  },
  {
   "cell_type": "code",
   "execution_count": 30,
   "id": "700a2eec",
   "metadata": {},
   "outputs": [
    {
     "data": {
      "text/html": [
       "<div>\n",
       "<style scoped>\n",
       "    .dataframe tbody tr th:only-of-type {\n",
       "        vertical-align: middle;\n",
       "    }\n",
       "\n",
       "    .dataframe tbody tr th {\n",
       "        vertical-align: top;\n",
       "    }\n",
       "\n",
       "    .dataframe thead th {\n",
       "        text-align: right;\n",
       "    }\n",
       "</style>\n",
       "<table border=\"1\" class=\"dataframe\">\n",
       "  <thead>\n",
       "    <tr style=\"text-align: right;\">\n",
       "      <th></th>\n",
       "      <th>output</th>\n",
       "      <th>capital</th>\n",
       "      <th>labour</th>\n",
       "      <th>y_pred</th>\n",
       "      <th>resdual</th>\n",
       "    </tr>\n",
       "  </thead>\n",
       "  <tbody>\n",
       "    <tr>\n",
       "      <th>0</th>\n",
       "      <td>9.25</td>\n",
       "      <td>2.61</td>\n",
       "      <td>184</td>\n",
       "      <td>2.19</td>\n",
       "      <td>0.03</td>\n",
       "    </tr>\n",
       "    <tr>\n",
       "      <th>1</th>\n",
       "      <td>3.66</td>\n",
       "      <td>1.32</td>\n",
       "      <td>91</td>\n",
       "      <td>1.55</td>\n",
       "      <td>-0.25</td>\n",
       "    </tr>\n",
       "    <tr>\n",
       "      <th>2</th>\n",
       "      <td>28.78</td>\n",
       "      <td>22.09</td>\n",
       "      <td>426</td>\n",
       "      <td>3.24</td>\n",
       "      <td>0.12</td>\n",
       "    </tr>\n",
       "    <tr>\n",
       "      <th>3</th>\n",
       "      <td>4.12</td>\n",
       "      <td>10.74</td>\n",
       "      <td>72</td>\n",
       "      <td>1.82</td>\n",
       "      <td>-0.41</td>\n",
       "    </tr>\n",
       "    <tr>\n",
       "      <th>4</th>\n",
       "      <td>2.89</td>\n",
       "      <td>1.16</td>\n",
       "      <td>46</td>\n",
       "      <td>1.04</td>\n",
       "      <td>0.02</td>\n",
       "    </tr>\n",
       "  </tbody>\n",
       "</table>\n",
       "</div>"
      ],
      "text/plain": [
       "   output  capital  labour  y_pred  resdual\n",
       "0    9.25     2.61     184    2.19     0.03\n",
       "1    3.66     1.32      91    1.55    -0.25\n",
       "2   28.78    22.09     426    3.24     0.12\n",
       "3    4.12    10.74      72    1.82    -0.41\n",
       "4    2.89     1.16      46    1.04     0.02"
      ]
     },
     "execution_count": 30,
     "metadata": {},
     "output_type": "execute_result"
    }
   ],
   "source": [
    "df['resdual'] = np.log(df['output']) - df['y_pred']\n",
    "df.round(2)"
   ]
  },
  {
   "cell_type": "markdown",
   "id": "77ae1b43",
   "metadata": {},
   "source": [
    "# 1.2.1"
   ]
  },
  {
   "cell_type": "code",
   "execution_count": 34,
   "id": "6079660f",
   "metadata": {},
   "outputs": [
    {
     "data": {
      "text/plain": [
       "52.78999999999999"
      ]
     },
     "execution_count": 34,
     "metadata": {},
     "output_type": "execute_result"
    }
   ],
   "source": [
    "TSS = 100.35 \n",
    "ESS = 47.56\n",
    "RSS = TSS - ESS\n",
    "RSS"
   ]
  },
  {
   "cell_type": "code",
   "execution_count": 35,
   "id": "a77a6144",
   "metadata": {},
   "outputs": [
    {
     "data": {
      "text/plain": [
       "0.47"
      ]
     },
     "execution_count": 35,
     "metadata": {},
     "output_type": "execute_result"
    }
   ],
   "source": [
    "R2 = ESS/TSS\n",
    "round(R2, 2)"
   ]
  },
  {
   "cell_type": "code",
   "execution_count": 36,
   "id": "5ff42078",
   "metadata": {},
   "outputs": [
    {
     "data": {
      "text/plain": [
       "147.3"
      ]
     },
     "execution_count": 36,
     "metadata": {},
     "output_type": "execute_result"
    }
   ],
   "source": [
    "TSS = 240.82 \n",
    "ESS = 93.52\n",
    "RSS = TSS - ESS\n",
    "RSS"
   ]
  },
  {
   "cell_type": "code",
   "execution_count": 38,
   "id": "79f47973",
   "metadata": {},
   "outputs": [
    {
     "data": {
      "text/plain": [
       "0.39"
      ]
     },
     "execution_count": 38,
     "metadata": {},
     "output_type": "execute_result"
    }
   ],
   "source": [
    "R2 = ESS/TSS\n",
    "round(R2, 2)"
   ]
  },
  {
   "cell_type": "markdown",
   "id": "cba95c5e",
   "metadata": {},
   "source": [
    "# 2.1"
   ]
  },
  {
   "cell_type": "markdown",
   "id": "193ade87",
   "metadata": {},
   "source": [
    "$$\n",
    "R^2_{aij} = 1 - (1 - R^2)*\\frac{(n-1)}{(n-k)}\n",
    "$$"
   ]
  },
  {
   "cell_type": "code",
   "execution_count": 42,
   "id": "d29a49da",
   "metadata": {},
   "outputs": [],
   "source": [
    "n=526\n",
    "k=5\n",
    "R2=0.288"
   ]
  },
  {
   "cell_type": "code",
   "execution_count": 43,
   "id": "cbfe359f",
   "metadata": {},
   "outputs": [],
   "source": [
    "R2adj =1-(1-R2)*(n-1)/(n-k)"
   ]
  },
  {
   "cell_type": "code",
   "execution_count": 46,
   "id": "cb62992d",
   "metadata": {},
   "outputs": [
    {
     "data": {
      "text/plain": [
       "0.28"
      ]
     },
     "execution_count": 46,
     "metadata": {},
     "output_type": "execute_result"
    }
   ],
   "source": [
    "round(R2adj,2)"
   ]
  },
  {
   "cell_type": "markdown",
   "id": "2e2b6f57",
   "metadata": {},
   "source": [
    "##### k-кол-во регрессоров (exper, I(exper2),female, smsa,south)"
   ]
  },
  {
   "cell_type": "markdown",
   "id": "779761b6",
   "metadata": {},
   "source": [
    "# 3.1"
   ]
  },
  {
   "cell_type": "code",
   "execution_count": 47,
   "id": "bb4d2606",
   "metadata": {},
   "outputs": [],
   "source": [
    "katushka='''i   Факт  Fitted  Остаток \n",
    "1   3113 3094.454  18.546 \n",
    "4   3083 2943.580 139.420 \n",
    "6   4063 3494.143 568.857 \n",
    "10  3018 3111.983 -93.983 \n",
    "508 3630 3476.914 153.086 \n",
    "700 2993 3295.398 -302.398'''"
   ]
  },
  {
   "cell_type": "code",
   "execution_count": 49,
   "id": "d694b620",
   "metadata": {},
   "outputs": [
    {
     "data": {
      "text/html": [
       "<div>\n",
       "<style scoped>\n",
       "    .dataframe tbody tr th:only-of-type {\n",
       "        vertical-align: middle;\n",
       "    }\n",
       "\n",
       "    .dataframe tbody tr th {\n",
       "        vertical-align: top;\n",
       "    }\n",
       "\n",
       "    .dataframe thead th {\n",
       "        text-align: right;\n",
       "    }\n",
       "</style>\n",
       "<table border=\"1\" class=\"dataframe\">\n",
       "  <thead>\n",
       "    <tr style=\"text-align: right;\">\n",
       "      <th></th>\n",
       "      <th>i</th>\n",
       "      <th>Факт</th>\n",
       "      <th>Fitted</th>\n",
       "      <th>Остаток</th>\n",
       "    </tr>\n",
       "  </thead>\n",
       "  <tbody>\n",
       "    <tr>\n",
       "      <th>0</th>\n",
       "      <td>1</td>\n",
       "      <td>3113</td>\n",
       "      <td>3094.454</td>\n",
       "      <td>18.546</td>\n",
       "    </tr>\n",
       "    <tr>\n",
       "      <th>1</th>\n",
       "      <td>4</td>\n",
       "      <td>3083</td>\n",
       "      <td>2943.580</td>\n",
       "      <td>139.420</td>\n",
       "    </tr>\n",
       "    <tr>\n",
       "      <th>2</th>\n",
       "      <td>6</td>\n",
       "      <td>4063</td>\n",
       "      <td>3494.143</td>\n",
       "      <td>568.857</td>\n",
       "    </tr>\n",
       "    <tr>\n",
       "      <th>3</th>\n",
       "      <td>10</td>\n",
       "      <td>3018</td>\n",
       "      <td>3111.983</td>\n",
       "      <td>-93.983</td>\n",
       "    </tr>\n",
       "    <tr>\n",
       "      <th>4</th>\n",
       "      <td>508</td>\n",
       "      <td>3630</td>\n",
       "      <td>3476.914</td>\n",
       "      <td>153.086</td>\n",
       "    </tr>\n",
       "    <tr>\n",
       "      <th>5</th>\n",
       "      <td>700</td>\n",
       "      <td>2993</td>\n",
       "      <td>3295.398</td>\n",
       "      <td>-302.398</td>\n",
       "    </tr>\n",
       "  </tbody>\n",
       "</table>\n",
       "</div>"
      ],
      "text/plain": [
       "     i  Факт    Fitted  Остаток\n",
       "0    1  3113  3094.454   18.546\n",
       "1    4  3083  2943.580  139.420\n",
       "2    6  4063  3494.143  568.857\n",
       "3   10  3018  3111.983  -93.983\n",
       "4  508  3630  3476.914  153.086\n",
       "5  700  2993  3295.398 -302.398"
      ]
     },
     "execution_count": 49,
     "metadata": {},
     "output_type": "execute_result"
    }
   ],
   "source": [
    "op = pd.read_csv(io.StringIO(katushka), sep='\\s+')\n",
    "op                 "
   ]
  },
  {
   "cell_type": "code",
   "execution_count": 50,
   "id": "4dec8a60",
   "metadata": {},
   "outputs": [
    {
     "data": {
      "text/plain": [
       "0    3113\n",
       "1    3083\n",
       "2    4063\n",
       "3    3018\n",
       "4    3630\n",
       "5    2993\n",
       "Name: Факт, dtype: int64"
      ]
     },
     "execution_count": 50,
     "metadata": {},
     "output_type": "execute_result"
    }
   ],
   "source": [
    "op['Факт']"
   ]
  },
  {
   "cell_type": "code",
   "execution_count": 51,
   "id": "bbcac2d6",
   "metadata": {},
   "outputs": [
    {
     "data": {
      "text/plain": [
       "3316.6666666666665"
      ]
     },
     "execution_count": 51,
     "metadata": {},
     "output_type": "execute_result"
    }
   ],
   "source": [
    "op['Факт'].mean()"
   ]
  },
  {
   "cell_type": "code",
   "execution_count": 53,
   "id": "f25e7988",
   "metadata": {},
   "outputs": [],
   "source": [
    "TSS = np.sum( ( op['Факт']- op['Факт'].mean() )**2)"
   ]
  },
  {
   "cell_type": "code",
   "execution_count": 54,
   "id": "5fd05706",
   "metadata": {},
   "outputs": [
    {
     "data": {
      "text/plain": [
       "945233.3333333334"
      ]
     },
     "execution_count": 54,
     "metadata": {},
     "output_type": "execute_result"
    }
   ],
   "source": [
    "TSS"
   ]
  },
  {
   "cell_type": "code",
   "execution_count": 56,
   "id": "fcd45a8d",
   "metadata": {},
   "outputs": [
    {
     "data": {
      "text/plain": [
       "288096.9463873332"
      ]
     },
     "execution_count": 56,
     "metadata": {},
     "output_type": "execute_result"
    }
   ],
   "source": [
    "ESS = np.sum( ( op['Fitted']- op['Факт'].mean() )**2)\n",
    "ESS"
   ]
  },
  {
   "cell_type": "code",
   "execution_count": 57,
   "id": "389d2bc4",
   "metadata": {},
   "outputs": [
    {
     "data": {
      "text/plain": [
       "657136.3869460002"
      ]
     },
     "execution_count": 57,
     "metadata": {},
     "output_type": "execute_result"
    }
   ],
   "source": [
    "RSS=TSS-ESS\n",
    "RSS"
   ]
  },
  {
   "cell_type": "code",
   "execution_count": 58,
   "id": "0da9dc03",
   "metadata": {},
   "outputs": [
    {
     "data": {
      "text/plain": [
       "467092.85505400004"
      ]
     },
     "execution_count": 58,
     "metadata": {},
     "output_type": "execute_result"
    }
   ],
   "source": [
    "RSS = np.sum( ( op['Fitted']- op['Факт'] )**2)\n",
    "RSS"
   ]
  },
  {
   "cell_type": "code",
   "execution_count": 61,
   "id": "56b3288a",
   "metadata": {},
   "outputs": [
    {
     "data": {
      "text/plain": [
       "467092.85505400004"
      ]
     },
     "execution_count": 61,
     "metadata": {},
     "output_type": "execute_result"
    }
   ],
   "source": [
    "((op['Fitted']- op['Факт'] )**2).sum()"
   ]
  },
  {
   "cell_type": "code",
   "execution_count": 62,
   "id": "5ccdba07",
   "metadata": {},
   "outputs": [
    {
     "data": {
      "text/plain": [
       "0.30478923692985843"
      ]
     },
     "execution_count": 62,
     "metadata": {},
     "output_type": "execute_result"
    }
   ],
   "source": [
    "R2=ESS/TSS\n",
    "R2"
   ]
  },
  {
   "cell_type": "code",
   "execution_count": 63,
   "id": "bff849d6",
   "metadata": {},
   "outputs": [],
   "source": [
    "#SER"
   ]
  },
  {
   "cell_type": "markdown",
   "id": "8e60c3cc",
   "metadata": {},
   "source": [
    "$$\n",
    "SER=\\sqrt{RSS}\n",
    "$$"
   ]
  },
  {
   "cell_type": "code",
   "execution_count": null,
   "id": "356d865b",
   "metadata": {},
   "outputs": [],
   "source": []
  }
 ],
 "metadata": {
  "kernelspec": {
   "display_name": "Python 3 (ipykernel)",
   "language": "python",
   "name": "python3"
  },
  "language_info": {
   "codemirror_mode": {
    "name": "ipython",
    "version": 3
   },
   "file_extension": ".py",
   "mimetype": "text/x-python",
   "name": "python",
   "nbconvert_exporter": "python",
   "pygments_lexer": "ipython3",
   "version": "3.9.16"
  }
 },
 "nbformat": 4,
 "nbformat_minor": 5
}
